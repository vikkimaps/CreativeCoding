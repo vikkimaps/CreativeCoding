{
 "cells": [
  {
   "cell_type": "markdown",
   "id": "536f2206-1760-447f-b16f-093f308e087a",
   "metadata": {},
   "source": [
    "To show you how straightforward it is to get started integrating Jupyter and GitHub, we'll start by making a really basic notebook. Create your notebook, give it a catchy name, and add a simple command in one cell, like we've done below:"
   ]
  },
  {
   "cell_type": "code",
   "execution_count": 1,
   "id": "b5d07864-95e1-48dd-95a2-dcea8f76ea6a",
   "metadata": {},
   "outputs": [
    {
     "name": "stdout",
     "output_type": "stream",
     "text": [
      "Hello World!\n"
     ]
    }
   ],
   "source": [
    "print('Hello World!')"
   ]
  },
  {
   "cell_type": "markdown",
   "id": "f8306e32-4e0b-494e-a796-8c78225d9bfa",
   "metadata": {},
   "source": [
    "Great, now we're ready to upload this to GitHub. We need to create a new Repository (basically a folder to keep all our files) on GitHub. If you haven't yet got a GitHub account, you'll need to set that up first. Then go to 'Repositories' and click the green 'New' button on the right to add a new one. Give it a catchy name and make sure you set it to 'Public' so your group can add to it. "
   ]
  },
  {
   "cell_type": "code",
   "execution_count": null,
   "id": "96e7324a-2c98-400d-aa74-21c069309e68",
   "metadata": {},
   "outputs": [],
   "source": [
    "pip install --upgrade jupyterlab jupyterlab-git"
   ]
  }
 ],
 "metadata": {
  "kernelspec": {
   "display_name": "Python 3",
   "language": "python",
   "name": "python3"
  },
  "language_info": {
   "codemirror_mode": {
    "name": "ipython",
    "version": 3
   },
   "file_extension": ".py",
   "mimetype": "text/x-python",
   "name": "python",
   "nbconvert_exporter": "python",
   "pygments_lexer": "ipython3",
   "version": "3.8.8"
  }
 },
 "nbformat": 4,
 "nbformat_minor": 5
}
