{
 "cells": [
  {
   "cell_type": "markdown",
   "id": "536f2206-1760-447f-b16f-093f308e087a",
   "metadata": {},
   "source": [
    "To show you how straightforward it is to get started integrating Jupyter and GitHub, we'll start by making a really basic notebook. Create your notebook, and add a simple command in one cell, like we've done below. Remember to save it. "
   ]
  },
  {
   "cell_type": "code",
   "execution_count": 1,
   "id": "b5d07864-95e1-48dd-95a2-dcea8f76ea6a",
   "metadata": {},
   "outputs": [
    {
     "name": "stdout",
     "output_type": "stream",
     "text": [
      "Hello World!\n"
     ]
    }
   ],
   "source": [
    "print('Hello World!')"
   ]
  },
  {
   "cell_type": "markdown",
   "id": "2e70c25d-4710-48d4-9ca0-a17cf58b4f8b",
   "metadata": {},
   "source": [
    "You'll also need to set up a GitHub account, if you haven't already. "
   ]
  },
  {
   "cell_type": "markdown",
   "id": "69765e21-5288-4c3e-b523-4748fab89077",
   "metadata": {},
   "source": [
    "To access your GitHub remotely, you'll then need a Personal Access Token (similar to the access keys we used when working with APIs). You'll need to go to Account > Setting > Developer Settings > Personal Access Tokens > New Token. For a tutorial on how to do this, see [here](https://docs.github.com/en/authentication/keeping-your-account-and-data-secure/creating-a-personal-access-token). You'll need to keep this handy to push (GitHub lingo for sending updates) your Notebook edits to GitHub."
   ]
  },
  {
   "cell_type": "markdown",
   "id": "bd87bc6d-326c-4410-9eb0-b562db141072",
   "metadata": {},
   "source": [
    "Great, now we're ready to upload this to GitHub. We need to create a new Repository (basically a folder to keep all our files) on GitHub.  Then go to 'Repositories' and click the green 'New' button on the right to add a new one. Give it a catchy name and make sure you set it to 'Public' so your group can add to it. Copy and paste the link to the Repository via CODE > HTTPS"
   ]
  },
  {
   "cell_type": "markdown",
   "id": "3804d625-23f9-4dd7-8e99-b362eac49a94",
   "metadata": {},
   "source": [
    "You'll now be taken to the new Repository page. Go to Add File > Upload file, and upload your 'Hello World' notebook."
   ]
  },
  {
   "cell_type": "markdown",
   "id": "0c9c4cf2-a12a-4b01-9606-7b981f39ad24",
   "metadata": {},
   "source": [
    "Now you're ready to join Jupyter and GitHub! Run the command below to install/update Git on Jupyter:"
   ]
  },
  {
   "cell_type": "code",
   "execution_count": null,
   "id": "96e7324a-2c98-400d-aa74-21c069309e68",
   "metadata": {},
   "outputs": [],
   "source": [
    "pip install --upgrade jupyterlab jupyterlab-git"
   ]
  },
  {
   "cell_type": "markdown",
   "id": "72a07e4a-8e3b-4890-94dc-b8ef4f14750c",
   "metadata": {},
   "source": [
    "After this you'll need to close and reopen JupyterLab, to get the updated. You should see a new Git symbol on the left panel. "
   ]
  },
  {
   "cell_type": "markdown",
   "id": "561d38ba-1cb5-4244-933a-a5b2f88175f7",
   "metadata": {},
   "source": [
    "Click on the icon, sign in via your GitHub credentials, and clone the repository to your machine using the Repository code you copied above. You can now open the notebook and edit it!"
   ]
  },
  {
   "cell_type": "markdown",
   "id": "d9f21264-4c56-460d-940e-c7711f691c70",
   "metadata": {},
   "source": [
    "To send your edits back to GitHub, you must first save them, then Push them to GitHub"
   ]
  }
 ],
 "metadata": {
  "kernelspec": {
   "display_name": "Python 3",
   "language": "python",
   "name": "python3"
  },
  "language_info": {
   "codemirror_mode": {
    "name": "ipython",
    "version": 3
   },
   "file_extension": ".py",
   "mimetype": "text/x-python",
   "name": "python",
   "nbconvert_exporter": "python",
   "pygments_lexer": "ipython3",
   "version": "3.8.8"
  }
 },
 "nbformat": 4,
 "nbformat_minor": 5
}
